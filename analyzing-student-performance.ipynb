{
 "cells": [
  {
   "cell_type": "markdown",
   "id": "6c60fd27",
   "metadata": {
    "papermill": {
     "duration": 0.005095,
     "end_time": "2024-11-25T19:51:47.790499",
     "exception": false,
     "start_time": "2024-11-25T19:51:47.785404",
     "status": "completed"
    },
    "tags": []
   },
   "source": [
    "# Analyzing Student Performance in Bangladesh: Insights for Academic Excellence\n",
    "\n",
    "## **Overview**\n",
    "\n",
    "This notebook aims to analyze the **Student Performance-BD Dataset**, which contains academic and demographic data of students in Bangladesh. The dataset includes 24 attributes covering aspects such as demographics, parental involvement, academic performance, and extracurricular activities. By exploring this data, we seek to uncover actionable insights to enhance educational outcomes and assist students in choosing their best-fit academic groups (Science, Commerce, Arts).\n",
    "\n",
    "---\n",
    "\n",
    "## **Objectives**\n",
    "\n",
    "1. Analyze student demographics, including gender and age distributions.\n",
    "2. Examine academic performance across subjects and student groups.\n",
    "3. Identify factors influencing academic outcomes, such as parental education, extracurricular activities, and attendance.\n",
    "4. Provide insights to help educators and policymakers improve educational strategies.\n",
    "5. Suggest actionable recommendations for students to achieve academic success.\n",
    "\n",
    "---\n",
    "\n",
    "## **Key Questions**\n",
    "\n",
    "1. What does the dataset look like, and what are its key characteristics?\n",
    "2. What is the gender and age distribution among students?\n",
    "3. What are the average scores across different subjects?\n",
    "4. How does academic performance vary among student groups (Science, Commerce, Arts)?\n",
    "5. How do parental education levels impact academic performance?\n",
    "6. What is the role of extracurricular activities in academic success?\n",
    "7. How does attendance relate to performance in science?\n",
    "8. Does internet access influence academic outcomes?\n",
    "9. Which student group demonstrates the most consistent performance?\n",
    "\n",
    "---\n",
    "\n",
    "## **Methods**\n",
    "\n",
    "To answer these questions, we will utilize:\n",
    "- **Pandas**: For data manipulation and summary statistics.\n",
    "- **Matplotlib & Seaborn**: For creating visualizations to understand trends and relationships.\n",
    "\n",
    "---\n",
    "\n",
    "## **Expected Outcomes**\n",
    "\n",
    "By the end of this analysis, we will:\n",
    "- Gain a comprehensive understanding of student performance patterns.\n",
    "- Identify key factors influencing academic outcomes.\n",
    "- Provide data-driven insights to improve educational strategies and support students in making informed academic decisions.\n"
   ]
  },
  {
   "cell_type": "code",
   "execution_count": 1,
   "id": "f5fe9e05",
   "metadata": {
    "_cell_guid": "b1076dfc-b9ad-4769-8c92-a6c4dae69d19",
    "_uuid": "8f2839f25d086af736a60e9eeb907d3b93b6e0e5",
    "execution": {
     "iopub.execute_input": "2024-11-25T19:51:47.801085Z",
     "iopub.status.busy": "2024-11-25T19:51:47.800682Z",
     "iopub.status.idle": "2024-11-25T19:51:51.268353Z",
     "shell.execute_reply": "2024-11-25T19:51:51.267005Z"
    },
    "papermill": {
     "duration": 3.475809,
     "end_time": "2024-11-25T19:51:51.270767",
     "exception": false,
     "start_time": "2024-11-25T19:51:47.794958",
     "status": "completed"
    },
    "tags": []
   },
   "outputs": [
    {
     "data": {
      "text/html": [
       "<div>\n",
       "<style scoped>\n",
       "    .dataframe tbody tr th:only-of-type {\n",
       "        vertical-align: middle;\n",
       "    }\n",
       "\n",
       "    .dataframe tbody tr th {\n",
       "        vertical-align: top;\n",
       "    }\n",
       "\n",
       "    .dataframe thead th {\n",
       "        text-align: right;\n",
       "    }\n",
       "</style>\n",
       "<table border=\"1\" class=\"dataframe\">\n",
       "  <thead>\n",
       "    <tr style=\"text-align: right;\">\n",
       "      <th></th>\n",
       "      <th>id</th>\n",
       "      <th>full_name</th>\n",
       "      <th>age</th>\n",
       "      <th>gender</th>\n",
       "      <th>location</th>\n",
       "      <th>family_size</th>\n",
       "      <th>mother_education</th>\n",
       "      <th>father_education</th>\n",
       "      <th>mother_job</th>\n",
       "      <th>father_job</th>\n",
       "      <th>...</th>\n",
       "      <th>tutoring</th>\n",
       "      <th>school_type</th>\n",
       "      <th>attendance</th>\n",
       "      <th>extra_curricular_activities</th>\n",
       "      <th>english</th>\n",
       "      <th>math</th>\n",
       "      <th>science</th>\n",
       "      <th>social_science</th>\n",
       "      <th>art_culture</th>\n",
       "      <th>stu_group</th>\n",
       "    </tr>\n",
       "  </thead>\n",
       "  <tbody>\n",
       "    <tr>\n",
       "      <th>0</th>\n",
       "      <td>2</td>\n",
       "      <td>Avi Biswas</td>\n",
       "      <td>16</td>\n",
       "      <td>Male</td>\n",
       "      <td>Urban</td>\n",
       "      <td>6</td>\n",
       "      <td>SSC</td>\n",
       "      <td>HSC</td>\n",
       "      <td>No</td>\n",
       "      <td>No</td>\n",
       "      <td>...</td>\n",
       "      <td>Yes</td>\n",
       "      <td>Private</td>\n",
       "      <td>95</td>\n",
       "      <td>Yes</td>\n",
       "      <td>95</td>\n",
       "      <td>98</td>\n",
       "      <td>92</td>\n",
       "      <td>94</td>\n",
       "      <td>98</td>\n",
       "      <td>Science</td>\n",
       "    </tr>\n",
       "    <tr>\n",
       "      <th>1</th>\n",
       "      <td>3</td>\n",
       "      <td>Taslima Sultana</td>\n",
       "      <td>18</td>\n",
       "      <td>Female</td>\n",
       "      <td>Rural</td>\n",
       "      <td>6</td>\n",
       "      <td>SSC</td>\n",
       "      <td>HSC</td>\n",
       "      <td>No</td>\n",
       "      <td>Yes</td>\n",
       "      <td>...</td>\n",
       "      <td>No</td>\n",
       "      <td>Semi_Govt</td>\n",
       "      <td>92</td>\n",
       "      <td>No</td>\n",
       "      <td>65</td>\n",
       "      <td>71</td>\n",
       "      <td>40</td>\n",
       "      <td>78</td>\n",
       "      <td>80</td>\n",
       "      <td>Commerce</td>\n",
       "    </tr>\n",
       "    <tr>\n",
       "      <th>2</th>\n",
       "      <td>4</td>\n",
       "      <td>Md Adilur Rahman</td>\n",
       "      <td>15</td>\n",
       "      <td>Male</td>\n",
       "      <td>Rural</td>\n",
       "      <td>4</td>\n",
       "      <td>SSC</td>\n",
       "      <td>SSC</td>\n",
       "      <td>Yes</td>\n",
       "      <td>Yes</td>\n",
       "      <td>...</td>\n",
       "      <td>Yes</td>\n",
       "      <td>Govt</td>\n",
       "      <td>81</td>\n",
       "      <td>Yes</td>\n",
       "      <td>64</td>\n",
       "      <td>78</td>\n",
       "      <td>58</td>\n",
       "      <td>86</td>\n",
       "      <td>74</td>\n",
       "      <td>Commerce</td>\n",
       "    </tr>\n",
       "    <tr>\n",
       "      <th>3</th>\n",
       "      <td>5</td>\n",
       "      <td>Saleh Ahmed</td>\n",
       "      <td>16</td>\n",
       "      <td>Male</td>\n",
       "      <td>Rural</td>\n",
       "      <td>6</td>\n",
       "      <td>SSC</td>\n",
       "      <td>SSC</td>\n",
       "      <td>Yes</td>\n",
       "      <td>Yes</td>\n",
       "      <td>...</td>\n",
       "      <td>Yes</td>\n",
       "      <td>Private</td>\n",
       "      <td>90</td>\n",
       "      <td>Yes</td>\n",
       "      <td>84</td>\n",
       "      <td>90</td>\n",
       "      <td>85</td>\n",
       "      <td>86</td>\n",
       "      <td>88</td>\n",
       "      <td>Science</td>\n",
       "    </tr>\n",
       "    <tr>\n",
       "      <th>4</th>\n",
       "      <td>6</td>\n",
       "      <td>Din Islam</td>\n",
       "      <td>17</td>\n",
       "      <td>Male</td>\n",
       "      <td>Urban</td>\n",
       "      <td>5</td>\n",
       "      <td>Honors</td>\n",
       "      <td>Masters</td>\n",
       "      <td>No</td>\n",
       "      <td>Yes</td>\n",
       "      <td>...</td>\n",
       "      <td>Yes</td>\n",
       "      <td>Semi_Govt</td>\n",
       "      <td>75</td>\n",
       "      <td>Yes</td>\n",
       "      <td>54</td>\n",
       "      <td>70</td>\n",
       "      <td>45</td>\n",
       "      <td>79</td>\n",
       "      <td>76</td>\n",
       "      <td>Commerce</td>\n",
       "    </tr>\n",
       "  </tbody>\n",
       "</table>\n",
       "<p>5 rows × 24 columns</p>\n",
       "</div>"
      ],
      "text/plain": [
       "   id         full_name  age  gender location  family_size mother_education  \\\n",
       "0   2        Avi Biswas   16    Male    Urban            6              SSC   \n",
       "1   3   Taslima Sultana   18  Female    Rural            6              SSC   \n",
       "2   4  Md Adilur Rahman   15    Male    Rural            4              SSC   \n",
       "3   5       Saleh Ahmed   16    Male    Rural            6              SSC   \n",
       "4   6         Din Islam   17    Male    Urban            5           Honors   \n",
       "\n",
       "  father_education mother_job father_job  ... tutoring school_type attendance  \\\n",
       "0              HSC         No         No  ...      Yes     Private         95   \n",
       "1              HSC         No        Yes  ...       No   Semi_Govt         92   \n",
       "2              SSC        Yes        Yes  ...      Yes        Govt         81   \n",
       "3              SSC        Yes        Yes  ...      Yes     Private         90   \n",
       "4          Masters         No        Yes  ...      Yes   Semi_Govt         75   \n",
       "\n",
       "   extra_curricular_activities english math  science social_science  \\\n",
       "0                          Yes      95   98       92             94   \n",
       "1                           No      65   71       40             78   \n",
       "2                          Yes      64   78       58             86   \n",
       "3                          Yes      84   90       85             86   \n",
       "4                          Yes      54   70       45             79   \n",
       "\n",
       "   art_culture  stu_group  \n",
       "0           98    Science  \n",
       "1           80   Commerce  \n",
       "2           74   Commerce  \n",
       "3           88    Science  \n",
       "4           76   Commerce  \n",
       "\n",
       "[5 rows x 24 columns]"
      ]
     },
     "execution_count": 1,
     "metadata": {},
     "output_type": "execute_result"
    }
   ],
   "source": [
    "import pandas as pd\n",
    "import seaborn as sns\n",
    "import matplotlib.pyplot as plt\n",
    "\n",
    "data = pd.read_csv('/kaggle/input/student-performance-bd/bd_students_per.csv')\n",
    "\n",
    "data.head()\n"
   ]
  },
  {
   "cell_type": "code",
   "execution_count": 2,
   "id": "6da6aabf",
   "metadata": {
    "execution": {
     "iopub.execute_input": "2024-11-25T19:51:51.282834Z",
     "iopub.status.busy": "2024-11-25T19:51:51.281773Z",
     "iopub.status.idle": "2024-11-25T19:51:51.602810Z",
     "shell.execute_reply": "2024-11-25T19:51:51.601057Z"
    },
    "papermill": {
     "duration": 0.329111,
     "end_time": "2024-11-25T19:51:51.604845",
     "exception": true,
     "start_time": "2024-11-25T19:51:51.275734",
     "status": "failed"
    },
    "tags": []
   },
   "outputs": [
    {
     "ename": "NameError",
     "evalue": "name 'df' is not defined",
     "output_type": "error",
     "traceback": [
      "\u001b[0;31m---------------------------------------------------------------------------\u001b[0m",
      "\u001b[0;31mNameError\u001b[0m                                 Traceback (most recent call last)",
      "Cell \u001b[0;32mIn[2], line 1\u001b[0m\n\u001b[0;32m----> 1\u001b[0m \u001b[43mdf\u001b[49m\u001b[38;5;241m.\u001b[39minfo()\n",
      "\u001b[0;31mNameError\u001b[0m: name 'df' is not defined"
     ]
    }
   ],
   "source": [
    "df.info()"
   ]
  },
  {
   "cell_type": "markdown",
   "id": "b7e0f37f",
   "metadata": {
    "papermill": {
     "duration": null,
     "end_time": null,
     "exception": null,
     "start_time": null,
     "status": "pending"
    },
    "tags": []
   },
   "source": [
    "## 2. What is the gender distribution of students?"
   ]
  },
  {
   "cell_type": "code",
   "execution_count": null,
   "id": "c0d796bc",
   "metadata": {
    "execution": {
     "iopub.execute_input": "2024-11-25T19:45:10.814637Z",
     "iopub.status.busy": "2024-11-25T19:45:10.814155Z",
     "iopub.status.idle": "2024-11-25T19:45:11.054122Z",
     "shell.execute_reply": "2024-11-25T19:45:11.052394Z",
     "shell.execute_reply.started": "2024-11-25T19:45:10.814562Z"
    },
    "papermill": {
     "duration": null,
     "end_time": null,
     "exception": null,
     "start_time": null,
     "status": "pending"
    },
    "tags": []
   },
   "outputs": [],
   "source": [
    "gender_count = data['gender'].value_counts()\n",
    "\n",
    "# Plot gender distribution\n",
    "sns.barplot(x=gender_count.index, y=gender_count.values, palette='pastel')\n",
    "plt.title('Gender Distribution of Students')\n",
    "plt.xlabel('Gender')\n",
    "plt.ylabel('Number of Students')\n",
    "plt.show()"
   ]
  },
  {
   "cell_type": "markdown",
   "id": "708ddd86",
   "metadata": {
    "papermill": {
     "duration": null,
     "end_time": null,
     "exception": null,
     "start_time": null,
     "status": "pending"
    },
    "tags": []
   },
   "source": [
    "## How is the age of students distributed?"
   ]
  },
  {
   "cell_type": "code",
   "execution_count": null,
   "id": "27eb0f11",
   "metadata": {
    "execution": {
     "iopub.execute_input": "2024-11-25T19:45:11.057646Z",
     "iopub.status.busy": "2024-11-25T19:45:11.057177Z",
     "iopub.status.idle": "2024-11-25T19:45:11.459078Z",
     "shell.execute_reply": "2024-11-25T19:45:11.457689Z",
     "shell.execute_reply.started": "2024-11-25T19:45:11.057557Z"
    },
    "papermill": {
     "duration": null,
     "end_time": null,
     "exception": null,
     "start_time": null,
     "status": "pending"
    },
    "tags": []
   },
   "outputs": [],
   "source": [
    "sns.histplot(data['age'], kde=True, bins=10, color='skyblue')\n",
    "plt.title('Age Distribution of Students')\n",
    "plt.xlabel('Age')\n",
    "plt.ylabel('Frequency')\n",
    "plt.show()"
   ]
  },
  {
   "cell_type": "markdown",
   "id": "cfebf43a",
   "metadata": {
    "papermill": {
     "duration": null,
     "end_time": null,
     "exception": null,
     "start_time": null,
     "status": "pending"
    },
    "tags": []
   },
   "source": [
    "## What are the average scores in each subject?"
   ]
  },
  {
   "cell_type": "code",
   "execution_count": null,
   "id": "3bcf0788",
   "metadata": {
    "execution": {
     "iopub.execute_input": "2024-11-25T19:45:11.461143Z",
     "iopub.status.busy": "2024-11-25T19:45:11.460674Z",
     "iopub.status.idle": "2024-11-25T19:45:11.747110Z",
     "shell.execute_reply": "2024-11-25T19:45:11.746047Z",
     "shell.execute_reply.started": "2024-11-25T19:45:11.461094Z"
    },
    "papermill": {
     "duration": null,
     "end_time": null,
     "exception": null,
     "start_time": null,
     "status": "pending"
    },
    "tags": []
   },
   "outputs": [],
   "source": [
    "# Calculate average scores\n",
    "average_scores = data[['english', 'math', 'science', 'social_science', 'art_culture']].mean()\n",
    "\n",
    "# Plot average scores\n",
    "average_scores.plot(kind='bar', color='purple')\n",
    "plt.title('Average Scores by Subject')\n",
    "plt.xlabel('Subjects')\n",
    "plt.ylabel('Average Score')\n",
    "plt.show()\n"
   ]
  },
  {
   "cell_type": "markdown",
   "id": "1725cb6c",
   "metadata": {
    "papermill": {
     "duration": null,
     "end_time": null,
     "exception": null,
     "start_time": null,
     "status": "pending"
    },
    "tags": []
   },
   "source": [
    "## How does academic performance vary by student group (Science, Commerce, Arts)?"
   ]
  },
  {
   "cell_type": "code",
   "execution_count": null,
   "id": "48c4e530",
   "metadata": {
    "execution": {
     "iopub.execute_input": "2024-11-25T19:45:11.749464Z",
     "iopub.status.busy": "2024-11-25T19:45:11.748977Z",
     "iopub.status.idle": "2024-11-25T19:45:12.147013Z",
     "shell.execute_reply": "2024-11-25T19:45:12.145680Z",
     "shell.execute_reply.started": "2024-11-25T19:45:11.749408Z"
    },
    "papermill": {
     "duration": null,
     "end_time": null,
     "exception": null,
     "start_time": null,
     "status": "pending"
    },
    "tags": []
   },
   "outputs": [],
   "source": [
    "# Grouped subject averages\n",
    "group_scores = data.groupby('stu_group')[['english', 'math', 'science', 'social_science', 'art_culture']].mean()\n",
    "\n",
    "# Plot subject-wise averages\n",
    "group_scores.T.plot(kind='bar', figsize=(10, 6))\n",
    "plt.title('Subject Performance by Student Group')\n",
    "plt.xlabel('Subjects')\n",
    "plt.ylabel('Average Score')\n",
    "plt.legend(title='Student Group')\n",
    "plt.show()\n"
   ]
  },
  {
   "cell_type": "markdown",
   "id": "cb2ff562",
   "metadata": {
    "papermill": {
     "duration": null,
     "end_time": null,
     "exception": null,
     "start_time": null,
     "status": "pending"
    },
    "tags": []
   },
   "source": [
    "## Does parental education level affect student performance?"
   ]
  },
  {
   "cell_type": "code",
   "execution_count": null,
   "id": "06348911",
   "metadata": {
    "execution": {
     "iopub.execute_input": "2024-11-25T19:45:12.149643Z",
     "iopub.status.busy": "2024-11-25T19:45:12.149104Z",
     "iopub.status.idle": "2024-11-25T19:45:12.673779Z",
     "shell.execute_reply": "2024-11-25T19:45:12.672420Z",
     "shell.execute_reply.started": "2024-11-25T19:45:12.149571Z"
    },
    "papermill": {
     "duration": null,
     "end_time": null,
     "exception": null,
     "start_time": null,
     "status": "pending"
    },
    "tags": []
   },
   "outputs": [],
   "source": [
    "# Plot parental education vs average math score\n",
    "sns.boxplot(data=data, x='mother_education', y='math', palette='Set3')\n",
    "plt.title('Math Scores by Mother\\'s Education Level')\n",
    "plt.xlabel('Mother\\'s Education Level')\n",
    "plt.ylabel('Math Score')\n",
    "plt.show()\n"
   ]
  },
  {
   "cell_type": "code",
   "execution_count": null,
   "id": "2b0c8fb4",
   "metadata": {
    "execution": {
     "iopub.execute_input": "2024-11-25T19:45:12.676007Z",
     "iopub.status.busy": "2024-11-25T19:45:12.675513Z",
     "iopub.status.idle": "2024-11-25T19:45:13.057214Z",
     "shell.execute_reply": "2024-11-25T19:45:13.055762Z",
     "shell.execute_reply.started": "2024-11-25T19:45:12.675956Z"
    },
    "papermill": {
     "duration": null,
     "end_time": null,
     "exception": null,
     "start_time": null,
     "status": "pending"
    },
    "tags": []
   },
   "outputs": [],
   "source": [
    "sns.boxplot(data=data, x='father_education', y='math', palette='Set2')\n",
    "plt.title('Math Scores by Father\\'s Education Level')\n",
    "plt.xlabel('Father\\'s Education Level')\n",
    "plt.ylabel('Math Score')\n",
    "plt.show()\n"
   ]
  },
  {
   "cell_type": "markdown",
   "id": "e1e7ba2e",
   "metadata": {
    "papermill": {
     "duration": null,
     "end_time": null,
     "exception": null,
     "start_time": null,
     "status": "pending"
    },
    "tags": []
   },
   "source": [
    "##  How does extracurricular activity participation affect performance?"
   ]
  },
  {
   "cell_type": "code",
   "execution_count": null,
   "id": "957edd44",
   "metadata": {
    "execution": {
     "iopub.execute_input": "2024-11-25T19:45:13.059405Z",
     "iopub.status.busy": "2024-11-25T19:45:13.059004Z",
     "iopub.status.idle": "2024-11-25T19:45:13.390977Z",
     "shell.execute_reply": "2024-11-25T19:45:13.389697Z",
     "shell.execute_reply.started": "2024-11-25T19:45:13.059366Z"
    },
    "papermill": {
     "duration": null,
     "end_time": null,
     "exception": null,
     "start_time": null,
     "status": "pending"
    },
    "tags": []
   },
   "outputs": [],
   "source": [
    "# Average scores with/without extracurricular activities\n",
    "extracurricular_performance = data.groupby('extra_curricular_activities')[['english', 'math', 'science']].mean()\n",
    "\n",
    "# Plot results\n",
    "extracurricular_performance.T.plot(kind='bar', figsize=(10, 6), color=['skyblue', 'salmon'])\n",
    "plt.title('Performance vs. Extracurricular Activities')\n",
    "plt.xlabel('Subjects')\n",
    "plt.ylabel('Average Score')\n",
    "plt.legend(title='Participation')\n",
    "plt.show()\n"
   ]
  },
  {
   "cell_type": "markdown",
   "id": "f3d42fb6",
   "metadata": {
    "papermill": {
     "duration": null,
     "end_time": null,
     "exception": null,
     "start_time": null,
     "status": "pending"
    },
    "tags": []
   },
   "source": [
    "## How does attendance relate to performance?"
   ]
  },
  {
   "cell_type": "code",
   "execution_count": null,
   "id": "11f7c142",
   "metadata": {
    "execution": {
     "iopub.execute_input": "2024-11-25T19:45:13.394147Z",
     "iopub.status.busy": "2024-11-25T19:45:13.393779Z",
     "iopub.status.idle": "2024-11-25T19:45:14.416328Z",
     "shell.execute_reply": "2024-11-25T19:45:14.415042Z",
     "shell.execute_reply.started": "2024-11-25T19:45:13.394110Z"
    },
    "papermill": {
     "duration": null,
     "end_time": null,
     "exception": null,
     "start_time": null,
     "status": "pending"
    },
    "tags": []
   },
   "outputs": [],
   "source": [
    "# Plot attendance vs average science score\n",
    "sns.scatterplot(data=data, x='attendance', y='science', hue='stu_group', palette='coolwarm')\n",
    "plt.title('Attendance vs Science Score')\n",
    "plt.xlabel('Attendance (%)')\n",
    "plt.ylabel('Science Score')\n",
    "plt.show()\n"
   ]
  },
  {
   "cell_type": "markdown",
   "id": "f82418c1",
   "metadata": {
    "papermill": {
     "duration": null,
     "end_time": null,
     "exception": null,
     "start_time": null,
     "status": "pending"
    },
    "tags": []
   },
   "source": [
    "## Does internet access affect academic performance?"
   ]
  },
  {
   "cell_type": "code",
   "execution_count": null,
   "id": "5023b8be",
   "metadata": {
    "execution": {
     "iopub.execute_input": "2024-11-25T19:45:14.417976Z",
     "iopub.status.busy": "2024-11-25T19:45:14.417639Z",
     "iopub.status.idle": "2024-11-25T19:45:14.679361Z",
     "shell.execute_reply": "2024-11-25T19:45:14.677971Z",
     "shell.execute_reply.started": "2024-11-25T19:45:14.417943Z"
    },
    "papermill": {
     "duration": null,
     "end_time": null,
     "exception": null,
     "start_time": null,
     "status": "pending"
    },
    "tags": []
   },
   "outputs": [],
   "source": [
    "# Boxplot of internet access vs math score\n",
    "sns.boxplot(data=data, x='internet_access', y='math', palette='pastel')\n",
    "plt.title('Math Scores by Internet Access')\n",
    "plt.xlabel('Internet Access')\n",
    "plt.ylabel('Math Score')\n",
    "plt.show()\n"
   ]
  },
  {
   "cell_type": "markdown",
   "id": "f46c215c",
   "metadata": {
    "papermill": {
     "duration": null,
     "end_time": null,
     "exception": null,
     "start_time": null,
     "status": "pending"
    },
    "tags": []
   },
   "source": [
    "##  Which student group shows the most consistent performance?"
   ]
  },
  {
   "cell_type": "code",
   "execution_count": null,
   "id": "5b0985ad",
   "metadata": {
    "execution": {
     "iopub.execute_input": "2024-11-25T19:45:14.681245Z",
     "iopub.status.busy": "2024-11-25T19:45:14.680900Z",
     "iopub.status.idle": "2024-11-25T19:45:15.089445Z",
     "shell.execute_reply": "2024-11-25T19:45:15.085313Z",
     "shell.execute_reply.started": "2024-11-25T19:45:14.681210Z"
    },
    "papermill": {
     "duration": null,
     "end_time": null,
     "exception": null,
     "start_time": null,
     "status": "pending"
    },
    "tags": []
   },
   "outputs": [],
   "source": [
    "# Calculate standard deviation of scores for each group\n",
    "group_std = data.groupby('stu_group')[['english', 'math', 'science', 'social_science', 'art_culture']].std()\n",
    "\n",
    "# Plot the consistency\n",
    "group_std.T.plot(kind='bar', figsize=(10, 6), color=['gold', 'lightgreen', 'lightcoral'])\n",
    "plt.title('Consistency of Performance by Group')\n",
    "plt.xlabel('Subjects')\n",
    "plt.ylabel('Standard Deviation (Lower is Better)')\n",
    "plt.legend(title='Student Group')\n",
    "plt.show()\n"
   ]
  }
 ],
 "metadata": {
  "kaggle": {
   "accelerator": "none",
   "dataSources": [
    {
     "datasetId": 6082550,
     "sourceId": 9901623,
     "sourceType": "datasetVersion"
    }
   ],
   "dockerImageVersionId": 30786,
   "isGpuEnabled": false,
   "isInternetEnabled": true,
   "language": "python",
   "sourceType": "notebook"
  },
  "kernelspec": {
   "display_name": "Python 3",
   "language": "python",
   "name": "python3"
  },
  "language_info": {
   "codemirror_mode": {
    "name": "ipython",
    "version": 3
   },
   "file_extension": ".py",
   "mimetype": "text/x-python",
   "name": "python",
   "nbconvert_exporter": "python",
   "pygments_lexer": "ipython3",
   "version": "3.10.14"
  },
  "papermill": {
   "default_parameters": {},
   "duration": 7.642962,
   "end_time": "2024-11-25T19:51:52.332518",
   "environment_variables": {},
   "exception": true,
   "input_path": "__notebook__.ipynb",
   "output_path": "__notebook__.ipynb",
   "parameters": {},
   "start_time": "2024-11-25T19:51:44.689556",
   "version": "2.6.0"
  }
 },
 "nbformat": 4,
 "nbformat_minor": 5
}
